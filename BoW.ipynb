{
 "cells": [
  {
   "attachments": {},
   "cell_type": "markdown",
   "metadata": {},
   "source": [
    "- Bag of Words (BoW) 란?\n",
    "    - 단어들의 가방 → 어떤 텍스트 문서에 있는 단어들을 가방에 넣고, 가방을 흔들어 단어들을 섞는다.\n",
    "    - 해당 문서 내에서 특정 단어가 N번 등장했다면, 가방에도 그 단어가 N개가 존재한다.\n",
    "    - 단어들의 순서를 고려하지 않고, 단어들의 빈도수에만 집중하는 텍스트 데이터의 수치화 표현 방법이다.\n",
    "- BoW가 왜 필요할까?\n",
    "    - Bow는 각 단어가 등장한 횟수를 수치화하는 텍스트 표현 방법으로 주로 어떤 단어가 얼마나 등장했는지를 기준으로 어떤 성격의 문서인지를 판단할 수 있다."
   ]
  },
  {
   "cell_type": "code",
   "execution_count": 7,
   "metadata": {},
   "outputs": [],
   "source": [
    "from konlpy.tag import Mecab\n",
    "mecab = Mecab()\n",
    "\n",
    "def bag_of_words(doc):\n",
    "    doc = doc.replace('.', '')\n",
    "    print(\"온점 제거 후: \", doc)\n",
    "    tokenized_doc = mecab.nouns(doc)\n",
    "    print(\"mecab을 통해 형태소분석 후: \", tokenized_doc)\n",
    "    \n",
    "    word_to_index = {}\n",
    "    bow = []\n",
    "    \n",
    "    for word in tokenized_doc:\n",
    "        #처음 등장한 단어\n",
    "        if word not in word_to_index.keys():\n",
    "            #원래 문장에서의 해당 단어의 index를 value로 저장\n",
    "            word_to_index[word] = len(word_to_index)\n",
    "            #bow 리스트에 디폴트 1로 설정\n",
    "            bow.insert(len(word_to_index) - 1, 1)\n",
    "        #재등장한 단어\n",
    "        else:\n",
    "            #사전의 단어 인덱스로 bow 리스트에서 해당 단어 인덱스에 +1  \n",
    "            index = word_to_index.get(word)\n",
    "            bow[index] = bow[index] + 1\n",
    "    \n",
    "    return word_to_index, bow\n",
    "            "
   ]
  },
  {
   "cell_type": "code",
   "execution_count": 8,
   "metadata": {},
   "outputs": [
    {
     "name": "stdout",
     "output_type": "stream",
     "text": [
      "온점 제거 후:  정부가 발표하는 물가상승률과 소비자가 느끼는 물가상승률은 다르다\n",
      "mecab을 통해 형태소분석 후:  ['정부', '발표', '물가', '승률', '소비자', '물가', '상승']\n",
      "vocabulary : {'정부': 0, '발표': 1, '물가': 2, '승률': 3, '소비자': 4, '상승': 5}\n",
      "bag of words vector : [1, 1, 2, 1, 1, 1]\n"
     ]
    }
   ],
   "source": [
    "doc1 = \"정부가 발표하는 물가상승률과 소비자가 느끼는 물가상승률은 다르다.\"\n",
    "vocab, bow = bag_of_words(doc1)\n",
    "print('vocabulary :', vocab)\n",
    "print('bag of words vector :', bow)"
   ]
  },
  {
   "attachments": {},
   "cell_type": "markdown",
   "metadata": {},
   "source": [
    "CountVectorizer 클래스로 BoW 만들기\n",
    "\n",
    "- CountVectorizer 클래스\n",
    "    - sklearn 에서 단어의 빈도를 카운트하여 벡터로 만드는 countVectorizer 클래스를 지원함\n",
    "    - 주의할 점은 단지 띄어쓰기를 기준으로 단어를 자르는 낮은 수준의 토큰화를 진행하여 BoW를 만듬\n",
    "        - 즉, 영어와 달리 한국어는 띄어쓰기 뿐만 아니라 조사와 같은 문법도 고려해야하기 때문에 제대로된 BoW가 만들어지지 않을 수 있음\n",
    "    - 사용자가 직접 정의한 불용어 사전\n",
    "        - vect = CountVectorizer(stop_words=[\"the\", \"a\", \"an\", \"is\", \"not\"])\n",
    "    - CountVectorizer에서 제공하는 자체 불용어 사용\n",
    "        - vect = CountVectorizer(stop_words=\"english\")\n",
    "    - NLTK에서 지원하는 불용어 사용\n",
    "        - stop_words = stopwords.words(\"english\")\n",
    "        - vect = CountVectorizer(stop_words=stop_words)\n"
   ]
  },
  {
   "cell_type": "code",
   "execution_count": 14,
   "metadata": {},
   "outputs": [
    {
     "name": "stdout",
     "output_type": "stream",
     "text": [
      "bag of words vector:  [[1 2 1]]\n",
      "vocabulary:  {'know': 0, 'want': 2, 'love': 1}\n"
     ]
    }
   ],
   "source": [
    "from sklearn.feature_extraction.text import CountVectorizer\n",
    "\n",
    "corpus = ['you know I want your love. because I love you.']\n",
    "vector = CountVectorizer(stop_words=\"english\")\n",
    "\n",
    "# 코퍼스로부터 각 단어의 빈도수를 기록\n",
    "print('bag of words vector: ' , vector.fit_transform(corpus).toarray()) \n",
    "\n",
    "# 각 단어의 인덱스가 어떻게 부여되었는지를 출력\n",
    "print('vocabulary: ', vector.vocabulary_)"
   ]
  }
 ],
 "metadata": {
  "kernelspec": {
   "display_name": "kubicPJ",
   "language": "python",
   "name": "python3"
  },
  "language_info": {
   "codemirror_mode": {
    "name": "ipython",
    "version": 3
   },
   "file_extension": ".py",
   "mimetype": "text/x-python",
   "name": "python",
   "nbconvert_exporter": "python",
   "pygments_lexer": "ipython3",
   "version": "3.7.13 (default, Mar 28 2022, 07:24:34) \n[Clang 12.0.0 ]"
  },
  "orig_nbformat": 4,
  "vscode": {
   "interpreter": {
    "hash": "6aaaf69aa29f2ceef890beef9fea20005e918c9b85d0ae6ffedf72d29e4710c4"
   }
  }
 },
 "nbformat": 4,
 "nbformat_minor": 2
}
